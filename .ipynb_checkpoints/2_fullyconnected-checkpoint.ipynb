{
 "cells": [
  {
   "cell_type": "markdown",
   "metadata": {
    "colab_type": "text",
    "id": "kR-4eNdK6lYS"
   },
   "source": [
    "Deep Learning\n",
    "=============\n",
    "\n",
    "Assignment 2\n",
    "------------\n",
    "\n",
    "Previously in `1_notmnist.ipynb`, we created a pickle with formatted datasets for training, development and testing on the [notMNIST dataset](http://yaroslavvb.blogspot.com/2011/09/notmnist-dataset.html).\n",
    "\n",
    "The goal of this assignment is to progressively train deeper and more accurate models using TensorFlow."
   ]
  },
  {
   "cell_type": "code",
   "execution_count": 12,
   "metadata": {
    "cellView": "both",
    "colab": {
     "autoexec": {
      "startup": false,
      "wait_interval": 0
     }
    },
    "colab_type": "code",
    "collapsed": true,
    "id": "JLpLa8Jt7Vu4"
   },
   "outputs": [],
   "source": [
    "# These are all the modules we'll be using later. Make sure you can import them\n",
    "# before proceeding further.\n",
    "from __future__ import print_function\n",
    "import numpy as np\n",
    "import tensorflow as tf\n",
    "from six.moves import cPickle as pickle\n",
    "from six.moves import range"
   ]
  },
  {
   "cell_type": "markdown",
   "metadata": {
    "colab_type": "text",
    "id": "1HrCK6e17WzV"
   },
   "source": [
    "First reload the data we generated in `1_notmnist.ipynb`."
   ]
  },
  {
   "cell_type": "code",
   "execution_count": 13,
   "metadata": {
    "cellView": "both",
    "colab": {
     "autoexec": {
      "startup": false,
      "wait_interval": 0
     },
     "output_extras": [
      {
       "item_id": 1
      }
     ]
    },
    "colab_type": "code",
    "collapsed": false,
    "executionInfo": {
     "elapsed": 19456,
     "status": "ok",
     "timestamp": 1449847956073,
     "user": {
      "color": "",
      "displayName": "",
      "isAnonymous": false,
      "isMe": true,
      "permissionId": "",
      "photoUrl": "",
      "sessionId": "0",
      "userId": ""
     },
     "user_tz": 480
    },
    "id": "y3-cj1bpmuxc",
    "outputId": "0ddb1607-1fc4-4ddb-de28-6c7ab7fb0c33"
   },
   "outputs": [
    {
     "name": "stdout",
     "output_type": "stream",
     "text": [
      "Training set (200000, 28, 28) (200000,)\n",
      "Validation set (10000, 28, 28) (10000,)\n",
      "Test set (10000, 28, 28) (10000,)\n"
     ]
    }
   ],
   "source": [
    "pickle_file = 'notMNIST.pickle'\n",
    "\n",
    "with open(pickle_file, 'rb') as f:\n",
    "  save = pickle.load(f)\n",
    "  train_dataset = save['train_dataset']\n",
    "  train_labels = save['train_labels']\n",
    "  valid_dataset = save['valid_dataset']\n",
    "  valid_labels = save['valid_labels']\n",
    "  test_dataset = save['test_dataset']\n",
    "  test_labels = save['test_labels']\n",
    "  del save  # hint to help gc free up memory\n",
    "  print('Training set', train_dataset.shape, train_labels.shape)\n",
    "  print('Validation set', valid_dataset.shape, valid_labels.shape)\n",
    "  print('Test set', test_dataset.shape, test_labels.shape)"
   ]
  },
  {
   "cell_type": "markdown",
   "metadata": {
    "colab_type": "text",
    "id": "L7aHrm6nGDMB"
   },
   "source": [
    "Reformat into a shape that's more adapted to the models we're going to train:\n",
    "- data as a flat matrix,\n",
    "- labels as float 1-hot encodings."
   ]
  },
  {
   "cell_type": "code",
   "execution_count": 17,
   "metadata": {
    "collapsed": false
   },
   "outputs": [
    {
     "name": "stdout",
     "output_type": "stream",
     "text": [
      "[[[ 0.  0.  0. ...,  0.  0.  0.]]\n",
      "\n",
      " [[ 0.  0.  0. ...,  0.  0.  0.]]\n",
      "\n",
      " [[ 0.  1.  0. ...,  0.  0.  0.]]\n",
      "\n",
      " ..., \n",
      " [[ 1.  0.  0. ...,  0.  0.  0.]]\n",
      "\n",
      " [[ 0.  0.  0. ...,  0.  0.  0.]]\n",
      "\n",
      " [[ 1.  0.  0. ...,  0.  0.  0.]]]\n"
     ]
    }
   ],
   "source": [
    "print(train_labels[:,None])"
   ]
  },
  {
   "cell_type": "code",
   "execution_count": 16,
   "metadata": {
    "cellView": "both",
    "colab": {
     "autoexec": {
      "startup": false,
      "wait_interval": 0
     },
     "output_extras": [
      {
       "item_id": 1
      }
     ]
    },
    "colab_type": "code",
    "collapsed": false,
    "executionInfo": {
     "elapsed": 19723,
     "status": "ok",
     "timestamp": 1449847956364,
     "user": {
      "color": "",
      "displayName": "",
      "isAnonymous": false,
      "isMe": true,
      "permissionId": "",
      "photoUrl": "",
      "sessionId": "0",
      "userId": ""
     },
     "user_tz": 480
    },
    "id": "IRSyYiIIGIzS",
    "outputId": "2ba0fc75-1487-4ace-a562-cf81cae82793"
   },
   "outputs": [
    {
     "name": "stdout",
     "output_type": "stream",
     "text": [
      "Training set (200000, 784) (200000, 10)\n",
      "Validation set (10000, 784) (10000, 10)\n",
      "Test set (10000, 784) (10000, 10)\n"
     ]
    }
   ],
   "source": [
    "image_size = 28\n",
    "num_labels = 10\n",
    "\n",
    "def reformat(dataset, labels):\n",
    "  dataset = dataset.reshape((-1, image_size * image_size)).astype(np.float32)\n",
    "  # Map 0 to [1.0, 0.0, 0.0 ...], 1 to [0.0, 1.0, 0.0 ...]\n",
    "  labels = (np.arange(num_labels) == labels[:,None]).astype(np.float32)\n",
    "  return dataset, labels\n",
    "train_dataset, train_labels = reformat(train_dataset, train_labels)\n",
    "valid_dataset, valid_labels = reformat(valid_dataset, valid_labels)\n",
    "test_dataset, test_labels = reformat(test_dataset, test_labels)\n",
    "print('Training set', train_dataset.shape, train_labels.shape)\n",
    "print('Validation set', valid_dataset.shape, valid_labels.shape)\n",
    "print('Test set', test_dataset.shape, test_labels.shape)"
   ]
  },
  {
   "cell_type": "markdown",
   "metadata": {
    "colab_type": "text",
    "id": "nCLVqyQ5vPPH"
   },
   "source": [
    "We're first going to train a multinomial logistic regression using simple gradient descent.\n",
    "\n",
    "TensorFlow works like this:\n",
    "* First you describe the computation that you want to see performed: what the inputs, the variables, and the operations look like. These get created as nodes over a computation graph. This description is all contained within the block below:\n",
    "\n",
    "      with graph.as_default():\n",
    "          ...\n",
    "\n",
    "* Then you can run the operations on this graph as many times as you want by calling `session.run()`, providing it outputs to fetch from the graph that get returned. This runtime operation is all contained in the block below:\n",
    "\n",
    "      with tf.Session(graph=graph) as session:\n",
    "          ...\n",
    "\n",
    "Let's load all the data into TensorFlow and build the computation graph corresponding to our training:"
   ]
  },
  {
   "cell_type": "code",
   "execution_count": 18,
   "metadata": {
    "cellView": "both",
    "colab": {
     "autoexec": {
      "startup": false,
      "wait_interval": 0
     }
    },
    "colab_type": "code",
    "collapsed": true,
    "id": "Nfv39qvtvOl_"
   },
   "outputs": [],
   "source": [
    "# With gradient descent training, even this much data is prohibitive.\n",
    "# Subset the training data for faster turnaround.\n",
    "train_subset = 10000\n",
    "\n",
    "graph = tf.Graph()\n",
    "with graph.as_default():\n",
    "\n",
    "  # Input data.\n",
    "  # Load the training, validation and test data into constants that are\n",
    "  # attached to the graph.\n",
    "  tf_train_dataset = tf.constant(train_dataset[:train_subset, :])\n",
    "  tf_train_labels = tf.constant(train_labels[:train_subset])\n",
    "  tf_valid_dataset = tf.constant(valid_dataset)\n",
    "  tf_test_dataset = tf.constant(test_dataset)\n",
    "  \n",
    "  # Variables.\n",
    "  # These are the parameters that we are going to be training. The weight\n",
    "  # matrix will be initialized using random values following a (truncated)\n",
    "  # normal distribution. The biases get initialized to zero.\n",
    "  weights = tf.Variable(\n",
    "    tf.truncated_normal([image_size * image_size, num_labels]))\n",
    "  biases = tf.Variable(tf.zeros([num_labels]))\n",
    "  \n",
    "  # Training computation.\n",
    "  # We multiply the inputs with the weight matrix, and add biases. We compute\n",
    "  # the softmax and cross-entropy (it's one operation in TensorFlow, because\n",
    "  # it's very common, and it can be optimized). We take the average of this\n",
    "  # cross-entropy across all training examples: that's our loss.\n",
    "  logits = tf.matmul(tf_train_dataset, weights) + biases\n",
    "  loss = tf.reduce_mean(\n",
    "    tf.nn.softmax_cross_entropy_with_logits(logits, tf_train_labels))\n",
    "  \n",
    "  # Optimizer.\n",
    "  # We are going to find the minimum of this loss using gradient descent.\n",
    "  optimizer = tf.train.GradientDescentOptimizer(0.5).minimize(loss)\n",
    "  \n",
    "  # Predictions for the training, validation, and test data.\n",
    "  # These are not part of training, but merely here so that we can report\n",
    "  # accuracy figures as we train.\n",
    "  train_prediction = tf.nn.softmax(logits)\n",
    "  valid_prediction = tf.nn.softmax(\n",
    "    tf.matmul(tf_valid_dataset, weights) + biases)\n",
    "  test_prediction = tf.nn.softmax(tf.matmul(tf_test_dataset, weights) + biases)"
   ]
  },
  {
   "cell_type": "markdown",
   "metadata": {
    "colab_type": "text",
    "id": "KQcL4uqISHjP"
   },
   "source": [
    "Let's run this computation and iterate:"
   ]
  },
  {
   "cell_type": "code",
   "execution_count": 19,
   "metadata": {
    "cellView": "both",
    "colab": {
     "autoexec": {
      "startup": false,
      "wait_interval": 0
     },
     "output_extras": [
      {
       "item_id": 9
      }
     ]
    },
    "colab_type": "code",
    "collapsed": false,
    "executionInfo": {
     "elapsed": 57454,
     "status": "ok",
     "timestamp": 1449847994134,
     "user": {
      "color": "",
      "displayName": "",
      "isAnonymous": false,
      "isMe": true,
      "permissionId": "",
      "photoUrl": "",
      "sessionId": "0",
      "userId": ""
     },
     "user_tz": 480
    },
    "id": "z2cjdenH869W",
    "outputId": "4c037ba1-b526-4d8e-e632-91e2a0333267"
   },
   "outputs": [
    {
     "name": "stdout",
     "output_type": "stream",
     "text": [
      "Initialized\n",
      "Loss at step 0: 16.402767\n",
      "Training accuracy: 14.7%\n",
      "Validation accuracy: 18.0%\n",
      "Loss at step 100: 2.247686\n",
      "Training accuracy: 71.5%\n",
      "Validation accuracy: 71.8%\n",
      "Loss at step 200: 1.825962\n",
      "Training accuracy: 74.4%\n",
      "Validation accuracy: 74.5%\n",
      "Loss at step 300: 1.593177\n",
      "Training accuracy: 75.5%\n",
      "Validation accuracy: 75.2%\n",
      "Loss at step 400: 1.435374\n",
      "Training accuracy: 76.5%\n",
      "Validation accuracy: 75.6%\n",
      "Loss at step 500: 1.318224\n",
      "Training accuracy: 77.4%\n",
      "Validation accuracy: 75.7%\n",
      "Loss at step 600: 1.226549\n",
      "Training accuracy: 77.7%\n",
      "Validation accuracy: 75.8%\n",
      "Loss at step 700: 1.152050\n",
      "Training accuracy: 78.4%\n",
      "Validation accuracy: 75.9%\n",
      "Loss at step 800: 1.089726\n",
      "Training accuracy: 78.9%\n",
      "Validation accuracy: 76.0%\n",
      "Test accuracy: 82.5%\n"
     ]
    }
   ],
   "source": [
    "num_steps = 801\n",
    "\n",
    "def accuracy(predictions, labels):\n",
    "  return (100.0 * np.sum(np.argmax(predictions, 1) == np.argmax(labels, 1))\n",
    "          / predictions.shape[0])\n",
    "\n",
    "with tf.Session(graph=graph) as session:\n",
    "  # This is a one-time operation which ensures the parameters get initialized as\n",
    "  # we described in the graph: random weights for the matrix, zeros for the\n",
    "  # biases. \n",
    "  tf.initialize_all_variables().run()\n",
    "  print('Initialized')\n",
    "  for step in range(num_steps):\n",
    "    # Run the computations. We tell .run() that we want to run the optimizer,\n",
    "    # and get the loss value and the training predictions returned as numpy\n",
    "    # arrays.\n",
    "    _, l, predictions = session.run([optimizer, loss, train_prediction])\n",
    "    if (step % 100 == 0):\n",
    "      print('Loss at step %d: %f' % (step, l))\n",
    "      print('Training accuracy: %.1f%%' % accuracy(\n",
    "        predictions, train_labels[:train_subset, :]))\n",
    "      # Calling .eval() on valid_prediction is basically like calling run(), but\n",
    "      # just to get that one numpy array. Note that it recomputes all its graph\n",
    "      # dependencies.\n",
    "      print('Validation accuracy: %.1f%%' % accuracy(\n",
    "        valid_prediction.eval(), valid_labels))\n",
    "  print('Test accuracy: %.1f%%' % accuracy(test_prediction.eval(), test_labels))"
   ]
  },
  {
   "cell_type": "markdown",
   "metadata": {
    "colab_type": "text",
    "id": "x68f-hxRGm3H"
   },
   "source": [
    "Let's now switch to stochastic gradient descent training instead, which is much faster.\n",
    "\n",
    "The graph will be similar, except that instead of holding all the training data into a constant node, we create a `Placeholder` node which will be fed actual data at every call of `session.run()`."
   ]
  },
  {
   "cell_type": "code",
   "execution_count": 20,
   "metadata": {
    "cellView": "both",
    "colab": {
     "autoexec": {
      "startup": false,
      "wait_interval": 0
     }
    },
    "colab_type": "code",
    "collapsed": true,
    "id": "qhPMzWYRGrzM"
   },
   "outputs": [],
   "source": [
    "batch_size = 128\n",
    "\n",
    "graph = tf.Graph()\n",
    "with graph.as_default():\n",
    "\n",
    "  # Input data. For the training data, we use a placeholder that will be fed\n",
    "  # at run time with a training minibatch.\n",
    "  tf_train_dataset = tf.placeholder(tf.float32,\n",
    "                                    shape=(batch_size, image_size * image_size))\n",
    "  tf_train_labels = tf.placeholder(tf.float32, shape=(batch_size, num_labels))\n",
    "  tf_valid_dataset = tf.constant(valid_dataset)\n",
    "  tf_test_dataset = tf.constant(test_dataset)\n",
    "  \n",
    "  # Variables.\n",
    "  weights = tf.Variable(\n",
    "    tf.truncated_normal([image_size * image_size, num_labels]))\n",
    "  biases = tf.Variable(tf.zeros([num_labels]))\n",
    "  \n",
    "  # Training computation.\n",
    "  logits = tf.matmul(tf_train_dataset, weights) + biases\n",
    "  loss = tf.reduce_mean(\n",
    "    tf.nn.softmax_cross_entropy_with_logits(logits, tf_train_labels))\n",
    "  \n",
    "  # Optimizer.\n",
    "  optimizer = tf.train.GradientDescentOptimizer(0.5).minimize(loss)\n",
    "  \n",
    "  # Predictions for the training, validation, and test data.\n",
    "  train_prediction = tf.nn.softmax(logits)\n",
    "  valid_prediction = tf.nn.softmax(\n",
    "    tf.matmul(tf_valid_dataset, weights) + biases)\n",
    "  test_prediction = tf.nn.softmax(tf.matmul(tf_test_dataset, weights) + biases)"
   ]
  },
  {
   "cell_type": "markdown",
   "metadata": {
    "colab_type": "text",
    "id": "XmVZESmtG4JH"
   },
   "source": [
    "Let's run it:"
   ]
  },
  {
   "cell_type": "code",
   "execution_count": 23,
   "metadata": {
    "cellView": "both",
    "colab": {
     "autoexec": {
      "startup": false,
      "wait_interval": 0
     },
     "output_extras": [
      {
       "item_id": 6
      }
     ]
    },
    "colab_type": "code",
    "collapsed": false,
    "executionInfo": {
     "elapsed": 66292,
     "status": "ok",
     "timestamp": 1449848003013,
     "user": {
      "color": "",
      "displayName": "",
      "isAnonymous": false,
      "isMe": true,
      "permissionId": "",
      "photoUrl": "",
      "sessionId": "0",
      "userId": ""
     },
     "user_tz": 480
    },
    "id": "FoF91pknG_YW",
    "outputId": "d255c80e-954d-4183-ca1c-c7333ce91d0a"
   },
   "outputs": [
    {
     "name": "stdout",
     "output_type": "stream",
     "text": [
      "Initialized\n",
      "Minibatch loss at step 0: 15.779366\n",
      "Minibatch accuracy: 11.7%\n",
      "Validation accuracy: 13.9%\n",
      "Minibatch loss at step 500: 1.399874\n",
      "Minibatch accuracy: 78.9%\n",
      "Validation accuracy: 76.1%\n",
      "Minibatch loss at step 1000: 0.968454\n",
      "Minibatch accuracy: 80.5%\n",
      "Validation accuracy: 77.4%\n",
      "Minibatch loss at step 1500: 1.014051\n",
      "Minibatch accuracy: 78.1%\n",
      "Validation accuracy: 78.3%\n",
      "Minibatch loss at step 2000: 0.989192\n",
      "Minibatch accuracy: 79.7%\n",
      "Validation accuracy: 78.4%\n",
      "Minibatch loss at step 2500: 1.024634\n",
      "Minibatch accuracy: 78.9%\n",
      "Validation accuracy: 78.9%\n",
      "Minibatch loss at step 3000: 1.017049\n",
      "Minibatch accuracy: 75.0%\n",
      "Validation accuracy: 79.5%\n",
      "Test accuracy: 85.7%\n"
     ]
    }
   ],
   "source": [
    "num_steps = 3001\n",
    "\n",
    "with tf.Session(graph=graph) as session:\n",
    "  tf.initialize_all_variables().run()\n",
    "  print(\"Initialized\")\n",
    "  for step in range(num_steps):\n",
    "    # Pick an offset within the training data, which has been randomized.\n",
    "    # Note: we could use better randomization across epochs.\n",
    "    offset = (step * batch_size) % (train_labels.shape[0] - batch_size)\n",
    "    # Generate a minibatch.\n",
    "    batch_data = train_dataset[offset:(offset + batch_size), :]\n",
    "    batch_labels = train_labels[offset:(offset + batch_size), :]\n",
    "    # Prepare a dictionary telling the session where to feed the minibatch.\n",
    "    # The key of the dictionary is the placeholder node of the graph to be fed,\n",
    "    # and the value is the numpy array to feed to it.\n",
    "    feed_dict = {tf_train_dataset : batch_data, tf_train_labels : batch_labels}\n",
    "    _, l, predictions = session.run(\n",
    "      [optimizer, loss, train_prediction], feed_dict=feed_dict)\n",
    "    if (step % 500 == 0):\n",
    "      print(\"Minibatch loss at step %d: %f\" % (step, l))\n",
    "      print(\"Minibatch accuracy: %.1f%%\" % accuracy(predictions, batch_labels))\n",
    "      print(\"Validation accuracy: %.1f%%\" % accuracy(\n",
    "        valid_prediction.eval(), valid_labels))\n",
    "  print(\"Test accuracy: %.1f%%\" % accuracy(test_prediction.eval(), test_labels))"
   ]
  },
  {
   "cell_type": "markdown",
   "metadata": {
    "colab_type": "text",
    "id": "7omWxtvLLxik"
   },
   "source": [
    "---\n",
    "Problem\n",
    "-------\n",
    "\n",
    "Turn the logistic regression example with SGD into a 1-hidden layer neural network with rectified linear units [nn.relu()](https://www.tensorflow.org/versions/r0.7/api_docs/python/nn.html#relu) and 1024 hidden nodes. This model should improve your validation / test accuracy.\n",
    "\n",
    "---"
   ]
  },
  {
   "cell_type": "markdown",
   "metadata": {},
   "source": [
    "Actually, I will build a two-hidden-layer network with a layer of RELU and a fully connected layer feeding a softmax. "
   ]
  },
  {
   "cell_type": "code",
   "execution_count": 62,
   "metadata": {
    "collapsed": false
   },
   "outputs": [],
   "source": [
    "graph = tf.Graph()\n",
    "with graph.as_default():\n",
    "    \n",
    "    num_relu_nodes = 1024\n",
    "    num_fully_connected_nodes = 1024\n",
    "    \n",
    "    # Input data. For the training data, we use a placeholder that will be fed\n",
    "    # at run time with a training minibatch.\n",
    "    tf_train_dataset = tf.placeholder(tf.float32,\n",
    "                                    shape=(batch_size, image_size * image_size))\n",
    "    tf_train_labels = tf.placeholder(tf.float32, shape=(batch_size, num_labels))\n",
    "    tf_valid_dataset = tf.constant(valid_dataset)\n",
    "    tf_test_dataset = tf.constant(test_dataset)\n",
    "\n",
    "    \n",
    "    \n",
    "    # Variables for first layer\n",
    "#     weights_1 = tf.get_variable(\"weights_1\", initializer=tf.contrib.layers.xavier_initializer(), \\\n",
    "#                                 shape=[image_size * image_size, num_relu_nodes])\n",
    "    \n",
    "    weights_1 = tf.Variable(\n",
    "    tf.truncated_normal([image_size * image_size, num_relu_nodes]))\n",
    "    biases_1 = tf.Variable(tf.zeros([num_relu_nodes]))\n",
    "\n",
    "    # Training input layer.\n",
    "    logits_1 = tf.matmul(tf_train_dataset, weights_1) + biases_1\n",
    "    \n",
    "    #calculating RELU output layer\n",
    "    relu_out = tf.nn.relu(logits_1)\n",
    "\n",
    "    \n",
    "    \n",
    "    #setup second weight and bias for layer 2\n",
    "#     weights_2 = tf.get_variable(\"weights_2\", initializer = tf.contrib.layers.xavier_initializer(),\\\n",
    "#                                 shape=[num_fully_connected_nodes, num_labels])\n",
    "    weights_2 = tf.Variable(\n",
    "    tf.truncated_normal([num_fully_connected_nodes, num_labels]))\n",
    "    biases_2 = tf.Variable(tf.zeros([num_labels]))\n",
    "\n",
    "    # Training second layer after RELU layer.\n",
    "    logits_2 = tf.matmul(relu_out, weights_2) + biases_2\n",
    "    \n",
    "    \n",
    "    #calculate overall loss and optimize\n",
    "    loss = tf.reduce_mean(logits_2)\n",
    "    tf.nn.softmax_cross_entropy_with_logits(logits_2, tf_train_labels)\n",
    "\n",
    "    # Optimizer.\n",
    "    optimizer = tf.train.GradientDescentOptimizer(0.0000001).minimize(loss)\n",
    "\n",
    "    \n",
    "    \n",
    "    \n",
    "    # Predictions for the training, validation, and test data.\n",
    "    train_prediction = tf.nn.softmax(logits_2)\n",
    "    valid_prediction = tf.nn.softmax(\n",
    "    tf.matmul(tf.nn.relu(tf.matmul(tf_valid_dataset, weights_1) + biases_1), weights_2) + biases_2)\n",
    "    test_prediction = tf.nn.softmax(\n",
    "    tf.matmul(tf.nn.relu(tf.matmul(tf_test_dataset, weights_1) + biases_1), weights_2) + biases_2)"
   ]
  },
  {
   "cell_type": "raw",
   "metadata": {},
   "source": []
  },
  {
   "cell_type": "code",
   "execution_count": 60,
   "metadata": {
    "collapsed": false,
    "scrolled": true
   },
   "outputs": [
    {
     "name": "stdout",
     "output_type": "stream",
     "text": [
      "Initialized\n",
      "Minibatch loss at step 0: -41.524906\n",
      "Minibatch accuracy: 10.2%\n",
      "Validation accuracy: 12.2%\n",
      "Minibatch loss at step 500: -44.850227\n",
      "Minibatch accuracy: 16.4%\n",
      "Validation accuracy: 12.2%\n",
      "Minibatch loss at step 1000: -34.213917\n",
      "Minibatch accuracy: 11.7%\n",
      "Validation accuracy: 12.2%\n",
      "Minibatch loss at step 1500: -47.456287\n",
      "Minibatch accuracy: 14.1%\n",
      "Validation accuracy: 12.2%\n",
      "Minibatch loss at step 2000: -30.240618\n",
      "Minibatch accuracy: 14.1%\n",
      "Validation accuracy: 12.2%\n",
      "Minibatch loss at step 2500: -45.440796\n",
      "Minibatch accuracy: 10.2%\n",
      "Validation accuracy: 12.2%\n",
      "Minibatch loss at step 3000: -45.181530\n",
      "Minibatch accuracy: 8.6%\n",
      "Validation accuracy: 12.2%\n",
      "Minibatch loss at step 3500: -48.570759\n",
      "Minibatch accuracy: 18.0%\n",
      "Validation accuracy: 12.2%\n",
      "Minibatch loss at step 4000: -42.194187\n",
      "Minibatch accuracy: 11.7%\n",
      "Validation accuracy: 12.2%\n",
      "Minibatch loss at step 4500: -37.481506\n",
      "Minibatch accuracy: 10.9%\n",
      "Validation accuracy: 12.2%\n",
      "Minibatch loss at step 5000: -35.301903\n",
      "Minibatch accuracy: 10.2%\n",
      "Validation accuracy: 12.2%\n",
      "Minibatch loss at step 5500: -45.812057\n",
      "Minibatch accuracy: 13.3%\n",
      "Validation accuracy: 12.2%\n",
      "Minibatch loss at step 6000: -38.335308\n",
      "Minibatch accuracy: 12.5%\n",
      "Validation accuracy: 12.2%\n",
      "Minibatch loss at step 6500: -40.625404\n",
      "Minibatch accuracy: 10.9%\n",
      "Validation accuracy: 12.2%\n",
      "Minibatch loss at step 7000: -41.361061\n",
      "Minibatch accuracy: 11.7%\n",
      "Validation accuracy: 12.2%\n",
      "Minibatch loss at step 7500: -51.815533\n",
      "Minibatch accuracy: 10.9%\n",
      "Validation accuracy: 12.2%\n",
      "Minibatch loss at step 8000: -35.145088\n",
      "Minibatch accuracy: 7.8%\n",
      "Validation accuracy: 12.2%\n",
      "Minibatch loss at step 8500: -37.649006\n",
      "Minibatch accuracy: 8.6%\n",
      "Validation accuracy: 12.2%\n",
      "Minibatch loss at step 9000: -43.591999\n",
      "Minibatch accuracy: 13.3%\n",
      "Validation accuracy: 12.2%\n",
      "Minibatch loss at step 9500: -50.442696\n",
      "Minibatch accuracy: 12.5%\n",
      "Validation accuracy: 12.2%\n",
      "Minibatch loss at step 10000: -44.954414\n",
      "Minibatch accuracy: 16.4%\n",
      "Validation accuracy: 12.2%\n",
      "Minibatch loss at step 10500: -55.665680\n",
      "Minibatch accuracy: 10.9%\n",
      "Validation accuracy: 12.2%\n",
      "Minibatch loss at step 11000: -38.983681\n",
      "Minibatch accuracy: 12.5%\n",
      "Validation accuracy: 12.2%\n",
      "Minibatch loss at step 11500: -43.145508\n",
      "Minibatch accuracy: 11.7%\n",
      "Validation accuracy: 12.2%\n",
      "Minibatch loss at step 12000: -49.852436\n",
      "Minibatch accuracy: 11.7%\n",
      "Validation accuracy: 12.2%\n",
      "Minibatch loss at step 12500: -38.881157\n",
      "Minibatch accuracy: 11.7%\n",
      "Validation accuracy: 12.2%\n",
      "Minibatch loss at step 13000: -42.883175\n",
      "Minibatch accuracy: 11.7%\n",
      "Validation accuracy: 12.2%\n",
      "Minibatch loss at step 13500: -38.850803\n",
      "Minibatch accuracy: 14.8%\n",
      "Validation accuracy: 12.2%\n",
      "Minibatch loss at step 14000: -39.205925\n",
      "Minibatch accuracy: 9.4%\n",
      "Validation accuracy: 12.2%\n",
      "Minibatch loss at step 14500: -41.908401\n",
      "Minibatch accuracy: 13.3%\n",
      "Validation accuracy: 12.2%\n",
      "Minibatch loss at step 15000: -39.467152\n",
      "Minibatch accuracy: 9.4%\n",
      "Validation accuracy: 12.2%\n",
      "Minibatch loss at step 15500: -52.472839\n",
      "Minibatch accuracy: 13.3%\n",
      "Validation accuracy: 12.2%\n",
      "Minibatch loss at step 16000: -53.666943\n",
      "Minibatch accuracy: 10.2%\n",
      "Validation accuracy: 12.2%\n",
      "Minibatch loss at step 16500: -46.152702\n",
      "Minibatch accuracy: 8.6%\n",
      "Validation accuracy: 12.2%\n",
      "Minibatch loss at step 17000: -44.389671\n",
      "Minibatch accuracy: 18.0%\n",
      "Validation accuracy: 12.2%\n",
      "Minibatch loss at step 17500: -47.813026\n",
      "Minibatch accuracy: 8.6%\n",
      "Validation accuracy: 12.2%\n",
      "Minibatch loss at step 18000: -43.978096\n",
      "Minibatch accuracy: 10.9%\n",
      "Validation accuracy: 12.2%\n",
      "Minibatch loss at step 18500: -44.446877\n",
      "Minibatch accuracy: 10.2%\n",
      "Validation accuracy: 12.2%\n",
      "Minibatch loss at step 19000: -51.366375\n",
      "Minibatch accuracy: 11.7%\n",
      "Validation accuracy: 12.2%\n",
      "Minibatch loss at step 19500: -48.155178\n",
      "Minibatch accuracy: 10.9%\n",
      "Validation accuracy: 12.2%\n",
      "Minibatch loss at step 20000: -39.236801\n",
      "Minibatch accuracy: 11.7%\n",
      "Validation accuracy: 12.2%\n",
      "Minibatch loss at step 20500: -49.670170\n",
      "Minibatch accuracy: 16.4%\n",
      "Validation accuracy: 12.2%\n",
      "Minibatch loss at step 21000: -38.037636\n",
      "Minibatch accuracy: 10.9%\n",
      "Validation accuracy: 12.2%\n",
      "Minibatch loss at step 21500: -42.009014\n",
      "Minibatch accuracy: 9.4%\n",
      "Validation accuracy: 12.2%\n",
      "Minibatch loss at step 22000: -54.007469\n",
      "Minibatch accuracy: 8.6%\n",
      "Validation accuracy: 12.2%\n",
      "Minibatch loss at step 22500: -52.060768\n",
      "Minibatch accuracy: 11.7%\n",
      "Validation accuracy: 12.2%\n",
      "Minibatch loss at step 23000: -50.634857\n",
      "Minibatch accuracy: 10.2%\n",
      "Validation accuracy: 12.2%\n",
      "Minibatch loss at step 23500: -44.060322\n",
      "Minibatch accuracy: 14.1%\n",
      "Validation accuracy: 12.2%\n",
      "Minibatch loss at step 24000: -52.598282\n",
      "Minibatch accuracy: 10.9%\n",
      "Validation accuracy: 12.2%\n",
      "Minibatch loss at step 24500: -44.079189\n",
      "Minibatch accuracy: 10.2%\n",
      "Validation accuracy: 12.2%\n",
      "Minibatch loss at step 25000: -44.584145\n",
      "Minibatch accuracy: 10.2%\n",
      "Validation accuracy: 12.2%\n",
      "Minibatch loss at step 25500: -48.791542\n",
      "Minibatch accuracy: 12.5%\n",
      "Validation accuracy: 12.2%\n",
      "Minibatch loss at step 26000: -38.855858\n",
      "Minibatch accuracy: 8.6%\n",
      "Validation accuracy: 12.2%\n",
      "Minibatch loss at step 26500: -45.879932\n",
      "Minibatch accuracy: 10.2%\n",
      "Validation accuracy: 12.2%\n",
      "Minibatch loss at step 27000: -45.111214\n",
      "Minibatch accuracy: 14.1%\n",
      "Validation accuracy: 12.2%\n",
      "Minibatch loss at step 27500: -50.444969\n",
      "Minibatch accuracy: 9.4%\n",
      "Validation accuracy: 12.2%\n",
      "Minibatch loss at step 28000: -43.013283\n",
      "Minibatch accuracy: 12.5%\n",
      "Validation accuracy: 12.2%\n",
      "Minibatch loss at step 28500: -53.416798\n",
      "Minibatch accuracy: 4.7%\n",
      "Validation accuracy: 12.2%\n",
      "Minibatch loss at step 29000: -36.156261\n",
      "Minibatch accuracy: 11.7%\n",
      "Validation accuracy: 12.2%\n",
      "Minibatch loss at step 29500: -47.723877\n",
      "Minibatch accuracy: 14.1%\n",
      "Validation accuracy: 12.2%\n",
      "Test accuracy: 12.4%\n"
     ]
    }
   ],
   "source": [
    "num_steps = 30000\n",
    "\n",
    "with tf.Session(graph=graph) as session:\n",
    "  tf.initialize_all_variables().run()\n",
    "  print(\"Initialized\")\n",
    "  for step in range(num_steps):\n",
    "    # Pick an offset within the training data, which has been randomized.\n",
    "    # Note: we could use better randomization across epochs.\n",
    "    offset = (step * batch_size) % (train_labels.shape[0] - batch_size)\n",
    "    # Generate a minibatch.\n",
    "    batch_data = train_dataset[offset:(offset + batch_size), :]\n",
    "    batch_labels = train_labels[offset:(offset + batch_size), :]\n",
    "    # Prepare a dictionary telling the session where to feed the minibatch.\n",
    "    # The key of the dictionary is the placeholder node of the graph to be fed,\n",
    "    # and the value is the numpy array to feed to it.\n",
    "    feed_dict = {tf_train_dataset : batch_data, tf_train_labels : batch_labels}\n",
    "    _, l, predictions = session.run(\n",
    "      [optimizer, loss, train_prediction], feed_dict=feed_dict)\n",
    "    if (step % 500 == 0):\n",
    "      print(\"Minibatch loss at step %d: %f\" % (step, l))\n",
    "      print(\"Minibatch accuracy: %.1f%%\" % accuracy(predictions, batch_labels))\n",
    "      print(\"Validation accuracy: %.1f%%\" % accuracy(\n",
    "        valid_prediction.eval(), valid_labels))\n",
    "  print(\"Test accuracy: %.1f%%\" % accuracy(test_prediction.eval(), test_labels))"
   ]
  },
  {
   "cell_type": "code",
   "execution_count": null,
   "metadata": {
    "collapsed": true
   },
   "outputs": [],
   "source": []
  }
 ],
 "metadata": {
  "colab": {
   "default_view": {},
   "name": "2_fullyconnected.ipynb",
   "provenance": [],
   "version": "0.3.2",
   "views": {}
  },
  "kernelspec": {
   "display_name": "Python 2",
   "language": "python",
   "name": "python2"
  },
  "language_info": {
   "codemirror_mode": {
    "name": "ipython",
    "version": 2
   },
   "file_extension": ".py",
   "mimetype": "text/x-python",
   "name": "python",
   "nbconvert_exporter": "python",
   "pygments_lexer": "ipython2",
   "version": "2.7.12"
  }
 },
 "nbformat": 4,
 "nbformat_minor": 0
}
